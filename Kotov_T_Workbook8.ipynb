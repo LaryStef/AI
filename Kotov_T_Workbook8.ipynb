{
 "cells": [
  {
   "cell_type": "code",
   "execution_count": null,
   "metadata": {},
   "outputs": [
    {
     "ename": "",
     "evalue": "",
     "output_type": "error",
     "traceback": [
      "\u001b[1;31mRunning cells with 'Python 3.12.3' requires the ipykernel package.\n",
      "\u001b[1;31mRun the following command to install 'ipykernel' into the Python environment. \n",
      "\u001b[1;31mCommand: '/bin/python3 -m pip install ipykernel -U --user --force-reinstall'"
     ]
    }
   ],
   "source": [
    "from sklearn.cluster import KMeans\n",
    "import numpy as np\n",
    "import matplotlib.pyplot as plt\n",
    "\n",
    "\n",
    "X = np.array([\n",
    "    [5,3],\n",
    "    [10,15],\n",
    "    [15,12],\n",
    "    [24,10],\n",
    "    [30,45],\n",
    "    [85,70],\n",
    "    [71,80],\n",
    "    [60,78],\n",
    "    [55,52],\n",
    "    [80,91]\n",
    "])\n",
    "\n",
    "k_values = range(2, 6)\n",
    "for k in k_values:\n",
    "    kmeans = KMeans(n_clusters=k ,n_init=k )\n",
    "    y_kmeans = kmeans.fit_predict(X)\n",
    "    plt.scatter(X[:, 0], X[:, 1], c=y_kmeans, cmap='rainbow')\n",
    "    plt.title(f'k={k}')\n",
    "    plt.show()"
   ]
  },
  {
   "cell_type": "code",
   "execution_count": null,
   "metadata": {},
   "outputs": [],
   "source": [
    "from sklearn.datasets import load_iris\n",
    "import matplotlib.pyplot as plt\n",
    "\n",
    "\n",
    "iris = load_iris()\n",
    "X = iris.data\n",
    "y = iris.target \n",
    "k_values = range(2,6)\n",
    "\n",
    "for k in k_values:\n",
    "    kmeans = KMeans(n_clusters=k ,n_init=k )\n",
    "    y_kmeans = kmeans.fit_predict(X)\n",
    "    plt.scatter(X[:, 0], X[:, 1], c=y_kmeans, cmap='viridis')\n",
    "    plt.xlabel(iris.feature_names[0])\n",
    "    plt.ylabel(iris.feature_names[1])\n",
    "    plt.title(f'k={k}')\n",
    "    plt.show()"
   ]
  },
  {
   "cell_type": "code",
   "execution_count": null,
   "metadata": {},
   "outputs": [],
   "source": [
    "import numpy as np\n",
    "import matplotlib.pyplot as plt\n",
    "from sklearn.datasets import load_iris\n",
    "import scipy.cluster.hierarchy as shc\n",
    "from sklearn.cluster import AgglomerativeClustering\n",
    "\n",
    "\n",
    "iris = load_iris()\n",
    "\n",
    "data_iris = iris.data[:,:2]\n",
    "\n",
    "print(data_iris.shape)\n",
    "\n",
    "plt.figure(figsize=(28, 12), dpi=180)\n",
    "plt.figure(figsize=(10, 7))\n",
    "plt.title(\"Iris Dendogram\")\n",
    "\n",
    "dend = shc.dendrogram(shc.linkage(data_iris, method = 'ward'))\n",
    "cluster = AgglomerativeClustering(n_clusters=5,linkage='ward') \n",
    "cluster.fit_predict(data_iris)\n",
    "\n",
    "plt.figure(figsize=(10, 7)) \n",
    "plt.scatter(data_iris[:,0], data_iris[:,1], c=cluster.labels_, cmap='rainbow')"
   ]
  }
 ],
 "metadata": {
  "kernelspec": {
   "display_name": "Python 3",
   "language": "python",
   "name": "python3"
  },
  "language_info": {
   "name": "python",
   "version": "3.12.3"
  }
 },
 "nbformat": 4,
 "nbformat_minor": 2
}
